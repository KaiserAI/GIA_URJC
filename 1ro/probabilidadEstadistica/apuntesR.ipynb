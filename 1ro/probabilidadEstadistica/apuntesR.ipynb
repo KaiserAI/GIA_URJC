{
 "cells": [
  {
   "attachments": {},
   "cell_type": "markdown",
   "metadata": {},
   "source": [
    "# $\\underline{·Tema 2: Relaciones \\ Entre \\ Variables:}$"
   ]
  },
  {
   "attachments": {},
   "cell_type": "markdown",
   "metadata": {},
   "source": [
    "### $ \\underline{·Covarianza:}$"
   ]
  },
  {
   "attachments": {},
   "cell_type": "markdown",
   "metadata": {
    "vscode": {
     "languageId": "latex"
    }
   },
   "source": [
    "$ cov(x,y) = \\frac{\\sum_{i=1}^{n} \\ (x_{i} \\ - \\ \\bar{x}) \\ . \\ (y_{i} \\ - \\ \\bar{y})}{n} $   \n",
    "\n",
    "Si el resultado es positivo los altos de uno corresponden con los altos de otro, si es negativo los altos de uno corresponden con los bajos del otro.\n"
   ]
  },
  {
   "cell_type": "code",
   "execution_count": null,
   "metadata": {},
   "outputs": [],
   "source": [
    "cov(df$v1, df$v2)"
   ]
  },
  {
   "attachments": {},
   "cell_type": "markdown",
   "metadata": {},
   "source": [
    "### $\\underline{·Correlación:}$\n"
   ]
  },
  {
   "attachments": {},
   "cell_type": "markdown",
   "metadata": {},
   "source": [
    "Mientras más cerca de 1 (en absoluto) esté más relación tienen. A partir de 0,6 (en absoluto) ya estamos hablando de una correlación decente. Si sale 0 es que no hay relación."
   ]
  },
  {
   "cell_type": "code",
   "execution_count": null,
   "metadata": {},
   "outputs": [],
   "source": [
    "cor(df$v1, df$v2)"
   ]
  },
  {
   "attachments": {},
   "cell_type": "markdown",
   "metadata": {},
   "source": [
    "### $\\underline{·Recta \\ de \\ Regresión:}$"
   ]
  },
  {
   "attachments": {},
   "cell_type": "markdown",
   "metadata": {},
   "source": [
    "Recta q mejor se ajusta a la mayor cantidad de datos representados. La relación entre las variables y y x se calcula así: $ \\\\ $\n",
    "    $ \\ $         y = a + bx + $ \\epsilon $"
   ]
  },
  {
   "attachments": {},
   "cell_type": "markdown",
   "metadata": {},
   "source": [
    "Residuo: (valor observado - valor q predice la recta) Quiero q este valor sea lo más pequeño posible"
   ]
  },
  {
   "attachments": {},
   "cell_type": "markdown",
   "metadata": {},
   "source": [
    "$ e_{i} = y_{i} − a − bx_{i} $"
   ]
  },
  {
   "attachments": {},
   "cell_type": "markdown",
   "metadata": {},
   "source": [
    "#### $ \\underline{·Error \\ Cuadrático \\ Medio:}$"
   ]
  },
  {
   "attachments": {},
   "cell_type": "markdown",
   "metadata": {},
   "source": [
    "$ ECM (a,b) = \\frac {\\sum_{i = 1}^{n}(y_{i} - a - bx_{i})^{2}}{n}$"
   ]
  },
  {
   "attachments": {},
   "cell_type": "markdown",
   "metadata": {},
   "source": [
    "El valor de la recta de regresión es:"
   ]
  },
  {
   "attachments": {},
   "cell_type": "markdown",
   "metadata": {},
   "source": [
    "$ b = \\frac {S_{xy}}{S^2_{x}}$ .Si b es cero o cercano no hay relación. Esta es la pendiente, crecimiento medio que experimenta la y por cada valor q aumenta la x. Por cada unidad que aumenta la a, la b aumenta o disminuye lo q vale la b."
   ]
  },
  {
   "attachments": {},
   "cell_type": "markdown",
   "metadata": {},
   "source": [
    "$ a = \\bar{y} - b\\bar{x} $ .Intercepto el valor para un x = 0. Si b = 0, a sería."
   ]
  },
  {
   "attachments": {},
   "cell_type": "markdown",
   "metadata": {},
   "source": [
    " y = a + bx + $ \\epsilon $"
   ]
  },
  {
   "attachments": {},
   "cell_type": "markdown",
   "metadata": {},
   "source": [
    "#### En R:"
   ]
  },
  {
   "cell_type": "code",
   "execution_count": null,
   "metadata": {},
   "outputs": [],
   "source": [
    "lm(df$vdependiente(la y) ~ df$v2(la x)) #Es normal hacerle un summary pa ver las cosas plot(). Ojo q la y depende de la x, x eso se pone\n",
    "# primero la y, en el plot es al revés.\n",
    "\n",
    "plot(df$v2, df$vdependiente) # Con esto veremos la nube de puntos con la recta de regresión. Y como ya dijimos se pone al revés,\n",
    "                              #1ro x y luego y.\n",
    "                              \n",
    "abline(lm(df$vdependiente ~ df$v2))\n"
   ]
  },
  {
   "attachments": {},
   "cell_type": "markdown",
   "metadata": {},
   "source": [
    "### $\\underline{·Coeficiente \\ de \\ Determinación:} $"
   ]
  },
  {
   "attachments": {},
   "cell_type": "markdown",
   "metadata": {},
   "source": [
    "Es la proporción de la variación total de la variable Y que explica el modelo regresión. Cuanta más variabilidad tengamos es mejor pq explicamos mejor los datos y se calcula así:"
   ]
  },
  {
   "attachments": {},
   "cell_type": "markdown",
   "metadata": {},
   "source": [
    "$ R^2 = r^2_{xy}$"
   ]
  },
  {
   "cell_type": "code",
   "execution_count": null,
   "metadata": {},
   "outputs": [],
   "source": [
    "summary(lm(df$vdependiente(la y) ~ df$v2(la x))) # Aquí se podría ver enla parte final como R-square."
   ]
  },
  {
   "attachments": {},
   "cell_type": "markdown",
   "metadata": {},
   "source": [
    "# $\\underline{·Tema 3: \\ Probabilidad:}$"
   ]
  },
  {
   "attachments": {},
   "cell_type": "markdown",
   "metadata": {},
   "source": [
    "### ·$\\underline{Definición \\ de \\ Probabilidad:}$\n"
   ]
  },
  {
   "attachments": {},
   "cell_type": "markdown",
   "metadata": {},
   "source": [
    "Dado un espacio muestral Ω, diremos que P es una función de\n",
    "probabilidad definida sobre el conjunto de los posibles sucesos (que\n",
    "denotamos por A), si verifica las siguientes condiciones (axiomas):\n"
   ]
  },
  {
   "attachments": {},
   "cell_type": "markdown",
   "metadata": {},
   "source": [
    "-Axioma 1: La probabilidad es una función definida sobre el\n",
    "conjunto de todos los posibles sucesos, y que toma valores\n",
    "positivos comprendidos entre 0 y 1.\n",
    "Dado A ⊂ Ω, se cumple que 0 ≤ P(A) ≤ 1 $ \\\\ $\n",
    "\n",
    "-Axioma 2: La probabilidad del suceso seguro es 1, P(Ω) = 1 $ \\\\ $\n",
    "\n",
    "-Axioma 3: : La probabilidad de la unión numerable de sucesos\n",
    "disjuntos (incompatibles) es la suma de sus probabilidades:$\\\\$\n",
    "$ P(U_{A_{i}}) = \\sum_{i = 1}^{\\infty} P(A_{i})$"
   ]
  },
  {
   "attachments": {},
   "cell_type": "markdown",
   "metadata": {},
   "source": [
    "### $·\\underline{Regla \\ de \\ Laplace:}$"
   ]
  },
  {
   "attachments": {},
   "cell_type": "markdown",
   "metadata": {},
   "source": [
    "La probabilidad de un suceso en un espacio equiprobable (donde todos tengan la misma probabilidad) es el número de casos posibles entre el número de casos totales: $\\\\$\n",
    "$P(A)=\\frac{casos \\ favorables \\ de \\ A}{casos \\ totales}$"
   ]
  },
  {
   "attachments": {},
   "cell_type": "markdown",
   "metadata": {},
   "source": [
    "### $\\underline{·Probabilidad \\ Condicionada:}$"
   ]
  },
  {
   "attachments": {},
   "cell_type": "markdown",
   "metadata": {},
   "source": [
    "$ P(A|B) = \\frac{P(A\\cap B)}{P(B)}$    Probabilidad de A sabiendo B."
   ]
  },
  {
   "attachments": {},
   "cell_type": "markdown",
   "metadata": {},
   "source": [
    "#### ·Independencia de Sucesos:"
   ]
  },
  {
   "attachments": {},
   "cell_type": "markdown",
   "metadata": {},
   "source": [
    "$ P(A\\cap B) = P(A)P(B)$ Que el saber una cosa no modifica la probabilidad."
   ]
  },
  {
   "attachments": {},
   "cell_type": "markdown",
   "metadata": {},
   "source": [
    "#### ·Regla del producto y otras importantes:"
   ]
  },
  {
   "attachments": {},
   "cell_type": "markdown",
   "metadata": {},
   "source": [
    "$P(A\\cap B)=P(A)P(B|A)=P(B)P(A|B)$"
   ]
  },
  {
   "attachments": {},
   "cell_type": "markdown",
   "metadata": {},
   "source": [
    "$ P(A \\cup B) = P(A) + P(B) - P(A \\cap B) $"
   ]
  },
  {
   "attachments": {},
   "cell_type": "markdown",
   "metadata": {},
   "source": [
    "$ P(A \\cap B) = P(A)P(B) $ Bajo la hipótesis de independencia."
   ]
  },
  {
   "attachments": {},
   "cell_type": "markdown",
   "metadata": {},
   "source": [
    "$ P(A-B) = P(A) - P(A  \\cap B) $"
   ]
  },
  {
   "attachments": {},
   "cell_type": "markdown",
   "metadata": {},
   "source": [
    "$ P(A^{c}|B)=1-P(A|B) $"
   ]
  },
  {
   "attachments": {},
   "cell_type": "markdown",
   "metadata": {},
   "source": [
    "#### ·Probabilidad Total:"
   ]
  },
  {
   "attachments": {},
   "cell_type": "markdown",
   "metadata": {},
   "source": [
    "Dado Ω un espacio probabilístico, supongamos que tenemos una\n",
    "partición de Ω, esto es una colección B1,B2, . . . ,Bn ⊂ Ω, que\n",
    "constituyen una partición, es decir:\n"
   ]
  },
  {
   "attachments": {},
   "cell_type": "markdown",
   "metadata": {},
   "source": [
    "$ P(A) = \\sum_{i = 1}^{n}P(A|B_{i})P(B_{i})$"
   ]
  },
  {
   "attachments": {},
   "cell_type": "markdown",
   "metadata": {},
   "source": [
    "### $\\underline{·Regla \\ de \\ Bayes:}$"
   ]
  },
  {
   "attachments": {},
   "cell_type": "markdown",
   "metadata": {},
   "source": [
    "$ P(B_{i}|A)=\\frac{P(A|B_{i}) \\ · \\ P(B_{i})}{\\sum_{j = 1}^n \\ P(A|B_{j}) \\ · \\ P(B_{j})}$"
   ]
  },
  {
   "attachments": {},
   "cell_type": "markdown",
   "metadata": {},
   "source": [
    "# $ \\underline{·Tema \\ 4:}$"
   ]
  },
  {
   "attachments": {},
   "cell_type": "markdown",
   "metadata": {},
   "source": [
    "### $ \\underline{·Función \\ de \\ densidad:} $"
   ]
  },
  {
   "attachments": {},
   "cell_type": "markdown",
   "metadata": {},
   "source": [
    "$ \\int_{-\\infty}^{\\infty} f(x) \\cdot dx = 1$  La probabilidad debajo de la curva es 1."
   ]
  },
  {
   "attachments": {},
   "cell_type": "markdown",
   "metadata": {},
   "source": [
    "### $\\underline{·Función \\ de \\ Distribución:}$"
   ]
  },
  {
   "attachments": {},
   "cell_type": "markdown",
   "metadata": {},
   "source": [
    "Es la integral definida de la función de densidad."
   ]
  },
  {
   "attachments": {},
   "cell_type": "markdown",
   "metadata": {},
   "source": [
    "### $\\underline{·Esperanza \\ y \\ Varianza \\ de \\ Variables \\ Aleatorias: }$"
   ]
  },
  {
   "attachments": {},
   "cell_type": "markdown",
   "metadata": {},
   "source": [
    "### $\\underline{·Distribución \\ de \\ Bernoulli, mediante \\ procesos \\ de \\ Bernoulli:}$"
   ]
  },
  {
   "attachments": {},
   "cell_type": "markdown",
   "metadata": {},
   "source": [
    "Son repeticiones de un ensayo con sólo dos resultados posibles. Características:\n",
    "\n",
    "- las probabilidades de éxito (fracaso) no varían a lo largo de las\n",
    "repeticiones,\n",
    "- las repeticiones son independientes, en el sentido de que la\n",
    "probabilidad de un éxito o un fracaso no dependen de lo ocurrido\n",
    "anteriormente"
   ]
  },
  {
   "attachments": {},
   "cell_type": "markdown",
   "metadata": {},
   "source": [
    "### $\\underline{Distribución \\ Binomial:}$"
   ]
  },
  {
   "attachments": {},
   "cell_type": "markdown",
   "metadata": {},
   "source": [
    "Cuenta el número de éxitos en una serie de lanzamientos, independientes y con la misma probabilidad de éxito. Es decir, en un experimento de Bernoulli. "
   ]
  },
  {
   "attachments": {},
   "cell_type": "markdown",
   "metadata": {},
   "source": [
    "$ \\ \\ \\ \\ \\ \\ \\ \\ \\ \\ P(x) = \\binom{n}{x}p^x(1-p)^{n-x} \\ \\ \\ \\ \\ \\ \\ \\ $  ( $\\underline{x}$ éxitos en $\\underline{n}$ lanzamientos )"
   ]
  },
  {
   "attachments": {},
   "cell_type": "markdown",
   "metadata": {},
   "source": [
    "- Esperanza: E[X] = n p\n",
    "- Varianza: Var[X] = n p (1 - p) $ \\ \\ \\ \\ \\ $ ( la equiprobabilidad da más varianza. Es decir si p = 0.5 la varianza es máx )"
   ]
  },
  {
   "attachments": {},
   "cell_type": "markdown",
   "metadata": {},
   "source": [
    "### $\\underline{·Distribución \\ Geométrica:}$"
   ]
  },
  {
   "attachments": {},
   "cell_type": "markdown",
   "metadata": {},
   "source": [
    "Número de iteraciones hasta que obtengo un éxito. (ej 7,8 en hoja de problemas) "
   ]
  },
  {
   "attachments": {},
   "cell_type": "markdown",
   "metadata": {},
   "source": [
    "$P(x) = p(1-p)^{k-1}$"
   ]
  },
  {
   "attachments": {},
   "cell_type": "markdown",
   "metadata": {},
   "source": [
    "- Esperanza: $\\frac{1}{p}$\n",
    "- Varianza: $\\frac{1 - p}{p^2}$"
   ]
  }
 ],
 "metadata": {
  "kernelspec": {
   "display_name": "Python 3",
   "language": "python",
   "name": "python3"
  },
  "language_info": {
   "codemirror_mode": {
    "name": "ipython",
    "version": 3
   },
   "file_extension": ".py",
   "mimetype": "text/x-python",
   "name": "python",
   "nbconvert_exporter": "python",
   "pygments_lexer": "ipython3",
   "version": "3.11.1"
  },
  "orig_nbformat": 4,
  "vscode": {
   "interpreter": {
    "hash": "f7d1157152fe51c8911934d5ff3abf4c22b61f2b0364e9f5b14e372dea4ecdc2"
   }
  }
 },
 "nbformat": 4,
 "nbformat_minor": 2
}
