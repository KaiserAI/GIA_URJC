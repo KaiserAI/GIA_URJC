{
 "cells": [
  {
   "attachments": {},
   "cell_type": "markdown",
   "metadata": {},
   "source": [
    "# $ \\underline{Habilitar \\ Warnings:} $"
   ]
  },
  {
   "attachments": {},
   "cell_type": "markdown",
   "metadata": {},
   "source": [
    "Ahora nos dará más info en los errores, no sale en la versión del compilador 2.13, en la 2.12 si."
   ]
  },
  {
   "cell_type": "code",
   "execution_count": null,
   "metadata": {},
   "outputs": [],
   "source": [
    "interp.configureCompiler(_.settings.nowarn.value = false)"
   ]
  },
  {
   "attachments": {},
   "cell_type": "markdown",
   "metadata": {},
   "source": [
    "# $ \\underline{·Currificación \\ de \\ Funciones:} $"
   ]
  },
  {
   "attachments": {},
   "cell_type": "markdown",
   "metadata": {},
   "source": [
    "La currificación nos permite transformar funciones para que reciban solo un parámetro de entrada. "
   ]
  },
  {
   "cell_type": "code",
   "execution_count": 1,
   "metadata": {},
   "outputs": [
    {
     "data": {
      "text/plain": [
       "defined \u001b[32mfunction\u001b[39m \u001b[36mcompose\u001b[39m\r\n",
       "defined \u001b[32mfunction\u001b[39m \u001b[36mcomposeCurrified\u001b[39m"
      ]
     },
     "execution_count": 1,
     "metadata": {},
     "output_type": "execute_result"
    }
   ],
   "source": [
    "def compose[A, B, C]: (B => C, A =>B) => (A => C) = //Recibe 2 parámetros.\n",
    "    (f2, f1) => (a: A) => f2(f1(a))\n",
    "\n",
    "def composeCurrified[A, B, C]: (B => C) => ((A => B) => A => C) = //Misma función pero solo recibe uno.\n",
    "    (f2: B => C) => (f1: (A => B)) => (a: A) => f2(f1(a)): C"
   ]
  },
  {
   "attachments": {},
   "cell_type": "markdown",
   "metadata": {},
   "source": [
    "# $ \\underline{·Función \\ Identidad:} $"
   ]
  },
  {
   "attachments": {},
   "cell_type": "markdown",
   "metadata": {},
   "source": [
    "Creamos una función (la llamamos identity) que al componerla con otra nos devuelva la segunda función. Además, si componemos otra función con identity nos devuelve la otra función. "
   ]
  },
  {
   "cell_type": "code",
   "execution_count": null,
   "metadata": {},
   "outputs": [],
   "source": [
    "def identity[A]: A => A = //Definimos la función identidad\n",
    "    (x: A) => x: A \n",
    "\n",
    "compose(isEven: Int => Boolean, identity: Int => Int): (Int => Boolean) //Estamos usando la compose de arriba.\n",
    "compose(identity: Boolean => Boolean, isEven: Int => Boolean): (Int => Boolean)\n",
    "\n",
    "compose(isEven, identity[Int]) //Esto es lo mismo q la de arriba\n",
    "compose(identity[Boolean], isEven) //ya que en la propia compose es suficiente.\n"
   ]
  },
  {
   "attachments": {},
   "cell_type": "markdown",
   "metadata": {},
   "source": [
    "# $ \\underline{·Azúcar \\ Sintáctico:} $"
   ]
  },
  {
   "attachments": {},
   "cell_type": "markdown",
   "metadata": {},
   "source": [
    "El azúcar sintáctico es un término que busca intentar simplificar la escritura haciendola mínima."
   ]
  },
  {
   "cell_type": "code",
   "execution_count": null,
   "metadata": {},
   "outputs": [],
   "source": [
    "val addOneV: Int => Int = \n",
    "    (a: Int) => a + 1\n",
    "\n",
    "val addOneV: Int => Int = //Al poner el guión bajo se infiere q será el parámetro q le pasemos.\n",
    "    _ + 1\n",
    "\n",
    "val sum: (Int, Int) => Int = \n",
    "    (a: Int, b: Int) => a + b\n",
    "\n",
    "val sum: (Int, Int) => Int = //Hay q tener en cuenta q cada \"_\" es un párametro distinto,\n",
    "      _ + _                   // por lo q yo no podría sumar a + a. Ya q entendería el segundo \"_\" como si fuera otro parámetro sería un a + b.\n",
    "   \n",
    "\n"
   ]
  },
  {
   "attachments": {},
   "cell_type": "markdown",
   "metadata": {},
   "source": [
    "Scala viene incluida con una clase llamada functionx (x es un número cualquiera hasta 22). Esto nos permite aprovecharnos de q ya están implementadas y nos ahorramos la parte de especificar tipos. El número de function (la x) depende de cuantos parámetros de entrada tenga la función."
   ]
  },
  {
   "cell_type": "code",
   "execution_count": null,
   "metadata": {},
   "outputs": [],
   "source": [
    "val sum: (Int, Int) => Int = \n",
    "    (a: Int, b: Int) => a + b\n",
    "\n",
    "val sum: (Int, Int) => Int = //Misma función pero con azúcar sintáctico.\n",
    "     _ + _\n",
    "\n",
    "val sum: Function2[Int, Int, Int] = //Misma función pero con el azúcar de la clase function. Nos saltamos las especificaciones y 2 viene pq tiene\n",
    "    _ + _                             //2 valores de entrada\n"
   ]
  },
  {
   "attachments": {},
   "cell_type": "markdown",
   "metadata": {},
   "source": [
    "La función compose() y isThen (Hace lo contrario a compose) ya vienen en la librería de scala y nos permiten llamarlas así."
   ]
  },
  {
   "cell_type": "code",
   "execution_count": null,
   "metadata": {},
   "outputs": [],
   "source": [
    "isEven compose length\n",
    "length isThen isEven"
   ]
  },
  {
   "attachments": {},
   "cell_type": "markdown",
   "metadata": {},
   "source": [
    "# $ \\underline{·Tipos \\ Algebraicos \\ de \\ Datos: }$"
   ]
  },
  {
   "attachments": {},
   "cell_type": "markdown",
   "metadata": {},
   "source": [
    "Aquí podemos crear valores como productos:"
   ]
  },
  {
   "cell_type": "code",
   "execution_count": null,
   "metadata": {},
   "outputs": [],
   "source": [
    "case class Rectangle(width: Int, heigth: Int) // Creamos un valor de tipo rectángulo a través de un producto de su ancho y alto.\n",
    "case class Triangle(side: Int)\n",
    "case class Circle(radius: Double)\n",
    "\n",
    "type Number = Nothing\n",
    "type Colour = Nothing\n",
    "case class Card(number: Number, colour: Colour)"
   ]
  },
  {
   "cell_type": "code",
   "execution_count": null,
   "metadata": {},
   "outputs": [],
   "source": [
    "val r1: Rectangle = Rectangle(1, 3) // Así puedo crear valores tipo rectángulos.\n",
    "val r2: Rectangle = Rectangle(1, 3)\n",
    "val r3: Rectangle = Rectangle(2, 4)\n",
    "\n",
    "r1.width // Estas son observadoras, nos permiten saber q tipos de datos tienen las variables q hemos creado\n",
    "r1.heigth\n",
    "\n",
    "r1 == r2 // Esto nos dará verdadero pq los triángulos q creamos en r1 y en r2 tienen las mismas dimensiones.\n",
    "r2 == r3 // Aquí si q nos dará falso."
   ]
  },
  {
   "attachments": {},
   "cell_type": "markdown",
   "metadata": {},
   "source": [
    "### ·Tuplas:"
   ]
  },
  {
   "cell_type": "code",
   "execution_count": null,
   "metadata": {},
   "outputs": [],
   "source": [
    "case class TupleIntInt(fst: Int, snd: Int)\n",
    "case class TupleNumberColour(fst: number, snd: Colour)\n",
    "\n",
    "case class Tuple2[A, B](fst: A, snd: B) // Tupla parametrizada\n",
    "val r1: Tuple2[Int, Int] = Tuple2(1, 3) //Ahora podemos crear un rectángulo solo con esto\n",
    "val r2: (Int, Int) = (1, 3)"
   ]
  },
  {
   "cell_type": "code",
   "execution_count": null,
   "metadata": {},
   "outputs": [],
   "source": [
    "r1._1 // Así podemos usar los observadores\n",
    "r1._2"
   ]
  },
  {
   "attachments": {},
   "cell_type": "markdown",
   "metadata": {},
   "source": [
    "### ·¿Pq se llaman tipos algebraicos?"
   ]
  },
  {
   "attachments": {},
   "cell_type": "markdown",
   "metadata": {},
   "source": [
    "pq puedo crear tantos valores como el número de posibles valores de uno * el número de posibles valores del otro."
   ]
  },
  {
   "cell_type": "code",
   "execution_count": null,
   "metadata": {},
   "outputs": [],
   "source": [
    "???: (Boolean, Boolean)\n",
    "(???: Boolean, ???: Boolean) : (Boolean, Boolean)\n",
    "\n",
    "//Los 4 posibles valores q pueden tomar:\n",
    "(true: Boolean, true: Boolean) : (Boolean, Boolean)\n",
    "(true: Boolean, false: Boolean) : (Boolean, Boolean)\n",
    "(false: Boolean, false: Boolean) : (Boolean, Boolean)\n",
    "(false: Boolean, true: Boolean) : (Boolean, Boolean)\n"
   ]
  },
  {
   "attachments": {},
   "cell_type": "markdown",
   "metadata": {},
   "source": [
    "### ·Tipo neutro de Datos e Isomorfismo:"
   ]
  },
  {
   "cell_type": "code",
   "execution_count": null,
   "metadata": {},
   "outputs": [],
   "source": [
    "val u: Unit = () // Solo hay un valor, el \"()\".\n",
    "\n",
    "Int * Unit // El resultado no es Int, son tipos distintos no los puedo multiplicar. Son isomorfos: puedo establecer una correspondencia uno a\n",
    "           //uno entre los valores de Int y los de Boolean."
   ]
  },
  {
   "attachments": {},
   "cell_type": "markdown",
   "metadata": {},
   "source": [
    "$ Int \\neq Unit $ .No son iguales pero son Isomrfos.\n"
   ]
  },
  {
   "cell_type": "code",
   "execution_count": null,
   "metadata": {},
   "outputs": [],
   "source": [
    "def from(b: Boolean):(Boolean, Unit) =\n",
    "    (!b: Boolean, (): Unit) //Así asociamos a cada b true una función (false, Unit) y a cada false una (true, Unit).\n",
    "\n",
    "def to(t2: (Boolean, Unit)): Boolean =\n",
    "    !t2._1: Boolean //Ojo: usamos los observadores para acceder a los componentes de la función t2, en este caso será true o false.\n",
    "\n",
    "//Estas son las leyes de este isomorfismo q definimos.\n",
    "to(from(false)) == false\n",
    "to(from(true)) == true\n",
    "\n",
    "from(to((false, ()))) == (false, ())\n",
    "from(to((true, ()))) == (true, ())\n",
    "\n",
    "//Otra correspondencia pa el mismo isomorfismo: \n",
    "def from(b: Boolean):(Boolean, Unit) =\n",
    "    (b: Boolean, (): Unit) //Así asociamos a cada b true una función (true, Unit) y a cada false una (false, Unit).\n",
    "\n",
    "def to(t2: (Boolean, Unit)): Boolean =\n",
    "    t2._1: Boolean "
   ]
  },
  {
   "attachments": {},
   "cell_type": "markdown",
   "metadata": {},
   "source": [
    "A pesar de que Char e Int no son isomorfos (pq hay muchos más Ints q Chars) y no podría establecer una correspondencia uno a uno,\n",
    "puedo crear un tipo algebraico de datos (en este caso (Char, Int) e (Int, Char)) q sí q lo sea."
   ]
  },
  {
   "cell_type": "code",
   "execution_count": null,
   "metadata": {},
   "outputs": [],
   "source": [
    "//Esto puedo caer en el exámen.\n",
    "\n",
    "type A = (Char, Int)\n",
    "type B = (Int, Char)\n",
    "\n",
    "def from(t2: (Char, Int) : (Int, Char)) =\n",
    "    (t2._2: Int, t2._1: Char)\n",
    "\n",
    "def to(t2: (Int, Char) : (Char, Int)) =\n",
    "    (t2._2: Char, t2._1: Int)\n",
    "\n",
    "// Law1:\n",
    "to(from((\"a\", 1))) == (\"a\", 1)\n",
    "//Law2:\n",
    "from(to((1, \"b\"))) == (1, \"b\")"
   ]
  },
  {
   "attachments": {},
   "cell_type": "markdown",
   "metadata": {},
   "source": [
    "### $\\underline{·Plantilla \\ de \\ Isomorfismos:}$"
   ]
  },
  {
   "cell_type": "code",
   "execution_count": null,
   "metadata": {},
   "outputs": [],
   "source": [
    "trait Isomorphic[A, B]{\n",
    "    \n",
    "    def from(a: A): B\n",
    "    \n",
    "    def to(b: B): A\n",
    "    \n",
    "    // equality \n",
    "    \n",
    "    def equalA(a1: A, a2: A): Boolean = \n",
    "        a1 == a2\n",
    "    \n",
    "    def equalB(b1: B, b2: B): Boolean =\n",
    "        b1 == b2\n",
    "    \n",
    "    // Bijection laws\n",
    "    \n",
    "    def law1(a: A): Boolean = \n",
    "        equalA(to(from(a)), a)\n",
    "    \n",
    "    def law2(b: B): Boolean = \n",
    "        equalB(from(to(b)), b)\n",
    "}"
   ]
  },
  {
   "attachments": {},
   "cell_type": "markdown",
   "metadata": {},
   "source": [
    "## $ \\underline{·Valores \\ de \\ Tipo \\ Suma:(Either)} $"
   ]
  },
  {
   "attachments": {},
   "cell_type": "markdown",
   "metadata": {},
   "source": [
    "Aquí o bien tenemos uno o bien tenemos otro. Ejemplo una variable de carta o bien es sota o bien es caballo o bien es rey. Los valores de tipo producto, por ejemplo un rectángulo, tendrías q tener su base y su altura osea Int * Int. No puedes tener o bien su base o bien su altura, tienes q tener ambos."
   ]
  },
  {
   "attachments": {},
   "cell_type": "markdown",
   "metadata": {},
   "source": [
    "Para extraer info de los valores suma hago un pattern matching:\n"
   ]
  },
  {
   "cell_type": "code",
   "execution_count": null,
   "metadata": {},
   "outputs": [],
   "source": [
    "a match{\n",
    "    case 1: cosa1 =>\n",
    "    case 2: cosa2 =>\n",
    "}"
   ]
  },
  {
   "attachments": {},
   "cell_type": "markdown",
   "metadata": {},
   "source": [
    "Ahora puedo crear un tipo suma Shape q o bien es círculo o bien es rectángulo o bien es triángulo:"
   ]
  },
  {
   "cell_type": "code",
   "execution_count": null,
   "metadata": {},
   "outputs": [],
   "source": [
    "sealed abstract class Shape\n",
    "\n",
    "case class Circle(radius: Int) extends Shape\n",
    "case class Rectangle(width: Int, height: Int) extends Shape\n",
    "case class Triangle(side: Int) extends Shape"
   ]
  },
  {
   "attachments": {},
   "cell_type": "markdown",
   "metadata": {},
   "source": [
    "Así puedo declarar valores de tipo Shape:"
   ]
  },
  {
   "cell_type": "code",
   "execution_count": null,
   "metadata": {},
   "outputs": [],
   "source": [
    "val a: Shape = Circle(6)\n",
    "val r1: Shape = Rectangle(1, 3)"
   ]
  },
  {
   "cell_type": "code",
   "execution_count": null,
   "metadata": {},
   "outputs": [],
   "source": [
    "def toString(s: Shape): String =\n",
    "    s match{\n",
    "        case r: Rectangle => \"rectangle, width\" + r.width + \"height\" + r.height //Ojo como usamos el pattern matching pa entrar\n",
    "                                                                                 //al tipo suma y las observadoras ej: r.width \n",
    "                                                                                 //pa entrar a los valores de la clase producto\n",
    "                                                                                 //en este caso Rectangle.\n",
    "        case c: Circle => \"circle\" + c.radius\n",
    "        case t: Triangle => \"triangle\" + side\n",
    "    }"
   ]
  },
  {
   "cell_type": "code",
   "execution_count": null,
   "metadata": {},
   "outputs": [],
   "source": [
    "def toString(s: Shape): String = //Versión distinta del pattern matching.\n",
    "    s match{\n",
    "        case Rectangle(width, height) => \"rectangle, width\" + w + \"height\" + h \n",
    "        case Circle(radius) => \"circle\" + r\n",
    "        case Triangle(side) => \"triangle\" + s\n",
    "    }"
   ]
  },
  {
   "attachments": {},
   "cell_type": "markdown",
   "metadata": {},
   "source": [
    "### $ \\underline{·Valores \\ Suma \\ Estándar:}$"
   ]
  },
  {
   "cell_type": "code",
   "execution_count": null,
   "metadata": {},
   "outputs": [],
   "source": [
    "object StdSumTypes{\n",
    "    // type Option[A] = A + 1\n",
    "    sealed abstract class Option[+A]\n",
    "    case class Some[A](a: A) extends Option[A]\n",
    "    case object None extends Option[Nothing]\n",
    "    \n",
    "    // Either\n",
    "    type\n",
    "}"
   ]
  },
  {
   "attachments": {},
   "cell_type": "markdown",
   "metadata": {},
   "source": [
    "·Tipo de datos enumerados:"
   ]
  },
  {
   "cell_type": "code",
   "execution_count": null,
   "metadata": {},
   "outputs": [],
   "source": [
    "sealed abstract class Figura\n",
    "case object Sota extends Figura  //Ojo: aquí no ponemos case class pq son valores fijos, no varían como un rectángulo así q lo pongo como object.\n",
    "case object Caballo extends Figura\n",
    "case object Rey extends Figura"
   ]
  },
  {
   "attachments": {},
   "cell_type": "markdown",
   "metadata": {},
   "source": [
    "### $\\underline{·Option:}$"
   ]
  },
  {
   "attachments": {},
   "cell_type": "markdown",
   "metadata": {},
   "source": [
    "Puedo crear un objeto que permita los fallos, así si se comete alguno me devuelve el nothing en vez de cargarse el programa. Si no falla entra en el Some, si lo hace entra en el None:"
   ]
  },
  {
   "cell_type": "code",
   "execution_count": null,
   "metadata": {},
   "outputs": [],
   "source": [
    "object StdSumTypes{\n",
    "    // type Option[A] = A + 1\n",
    "    sealed abstract class Option[+A]\n",
    "    case class Some[A](a: A) extends Option[A]\n",
    "    case object None extends Option[Nothing] \n",
    "    \n",
    "    // Either\n",
    "    sealed abstract class Either[A,B]\n",
    "    case class Left[A,B](a:A) extends Either[A,B]\n",
    "    case class Right[A,B](b:B) extends Either[A,B]\n",
    "}"
   ]
  },
  {
   "attachments": {},
   "cell_type": "markdown",
   "metadata": {},
   "source": [
    "Esta función fallaría si dividimos entre cero para ello establecemos q si eso pasa devuelvo None y si no devuelvo alguno, osea Some. Para que eso funcione en la salida de la función ponemos un Option[] y dentro lo que nos podría devolver el Some, en este caso un Double:"
   ]
  },
  {
   "cell_type": "code",
   "execution_count": null,
   "metadata": {},
   "outputs": [],
   "source": [
    "def divideWithExceptions(a: Double, b: Double): Option[Double] =\n",
    "    if (b==0) None\n",
    "    else Some(a/b)"
   ]
  },
  {
   "attachments": {},
   "cell_type": "markdown",
   "metadata": {},
   "source": [
    "Lo malo es q el código anterior no nos diría que error hemos cometido así que usamos la clase Either creada arriba. En esta en vez de devolver un Unit puedo devolver un String que si me diga el error que cometí. "
   ]
  },
  {
   "cell_type": "code",
   "execution_count": null,
   "metadata": {},
   "outputs": [],
   "source": [
    "def divideWithEither(a: Double, b: Double): Either[String, Double] =\n",
    "    if (b==0) Left(\"divide by cero\":String)\n",
    "    else Right(a/b)"
   ]
  },
  {
   "attachments": {},
   "cell_type": "markdown",
   "metadata": {},
   "source": [
    "### $\\underline{·Valor \\ Neutro \\ de \\ la \\ Suma: \\ Tipo \\ Nothing}$"
   ]
  },
  {
   "cell_type": "code",
   "execution_count": null,
   "metadata": {},
   "outputs": [],
   "source": [
    "val imposible: Nothing =\n",
    "    ??? //No podría resolver las interrrogaciones ya que el tipo Nothing no está habitado."
   ]
  },
  {
   "attachments": {},
   "cell_type": "markdown",
   "metadata": {},
   "source": [
    "· Isomorfismo de la suma con el tipo nothing."
   ]
  },
  {
   "cell_type": "code",
   "execution_count": null,
   "metadata": {},
   "outputs": [],
   "source": [
    "class Iso1[A] extends Isomorphism[Either[A, Nothing], A]{\n",
    "\n",
    "    def from(e: Either[A, Nothing]): A =\n",
    "        e match{\n",
    "            case Left(i:A)=> i:A\n",
    "            //case Right(n: Nothing) => ???: Int //No habría q especificar el caso de la derecha pq para ello n tendría q ser de tipo nothing\n",
    "                                                  //y no se puede ser de tipo nothing.\n",
    "        }\n",
    "    def to(t2:A):Either[A, Nothing] =\n",
    "        Left(t2:A): Either[A,Nothing]\n",
    "}\n"
   ]
  },
  {
   "attachments": {},
   "cell_type": "markdown",
   "metadata": {},
   "source": [
    "## $ \\underline{·Valores \\ Tipo \\ Exponentes:(Funciones)} $"
   ]
  },
  {
   "attachments": {},
   "cell_type": "markdown",
   "metadata": {},
   "source": [
    "Son las funciones"
   ]
  },
  {
   "cell_type": "code",
   "execution_count": null,
   "metadata": {},
   "outputs": [],
   "source": [
    "val f:Either[Unit, Either[Unit, Unit]] => Boolean = {\n",
    "    case Left(u: Unit) =>\n",
    "    case Right(e: Either[Unit, Unit]) =>\n",
    "        e match{\n",
    "            case Left(u: Unit) => ??? :Boolean\n",
    "            case Right(u: Unit) => ??? :Boolean\n",
    "        }\n",
    "}\n",
    "\n",
    "val f:Either[Unit, Either[Unit, Unit]] => Boolean = {//Tmb puedo escribirlo así q es más compacto. \n",
    "    case Left(u: Unit) => ??? :Boolean\n",
    "    case Right(Left(u: Unit)) => ??? :Boolean   \n",
    "    case Right(Right(u: Unit)) => ??? :Boolean\n",
    "}\n"
   ]
  },
  {
   "attachments": {},
   "cell_type": "markdown",
   "metadata": {},
   "source": [
    "### $\\underline{·Extraer \\ Info \\ de \\ esas \\ Funciones:} $"
   ]
  },
  {
   "attachments": {},
   "cell_type": "markdown",
   "metadata": {},
   "source": [
    "Le aplico esa función a una variable."
   ]
  },
  {
   "attachments": {},
   "cell_type": "markdown",
   "metadata": {},
   "source": [
    "$ Ejemplo: \\ Z^{X+Y} = Z^{X}·Z^{Y}$"
   ]
  },
  {
   "cell_type": "code",
   "execution_count": null,
   "metadata": {},
   "outputs": [],
   "source": [
    "// Iso extension\n",
    "class Iso[X,Y,Z] extends Isomorphism[\n",
    "    Either[X,Y] => Z,\n",
    "    (X => Z, Y => Z) \n",
    "]{\n",
    "    def from(t2: Either[X,Y] => Z): (X => Z, Y => Z) =\n",
    "        ((x : X) =>  t2(Left(x : X) : Either[X, Y]) : Z,\n",
    "         (y : Y) => t2(Right(y : Y) : Either[X, Y])  : Z)\n",
    "    \n",
    "    def to(t2: (X => Z, Y => Z)) : Either[X,Y] => Z = \n",
    "        e => e match{\n",
    "            case Left(x) => t2._1(x) : Z\n",
    "            case Right(y) => t2._2(y) : Z\n",
    "        }\n",
    "}\n"
   ]
  },
  {
   "attachments": {},
   "cell_type": "markdown",
   "metadata": {},
   "source": [
    "# $ \\underline{·Tema \\ 4: \\ Isomorfismo \\ de \\ Curry-Howard:}$"
   ]
  },
  {
   "attachments": {},
   "cell_type": "markdown",
   "metadata": {},
   "source": [
    "\n",
    "$$ \n",
    "\\begin{array}{cc}\n",
    "\\mathrm{\\bf Scala\\ ADTs} & \\mathrm{\\bf Logic} \\\\\n",
    "\\hline\n",
    "\\mathtt{Unit} & \\top \\ True \\\\\n",
    "\\mathtt{Nothing} & \\bot  \\ False\\\\\n",
    "\\mathtt{Either[P, Q]} & p \\vee q \\\\\n",
    "\\mathtt{Tuple2[P, Q]} & p \\wedge q \\\\\n",
    "\\mathtt{P => Q} & p \\rightarrow q \n",
    "\\end{array}\n",
    "$$"
   ]
  },
  {
   "attachments": {},
   "cell_type": "markdown",
   "metadata": {},
   "source": [
    "\n",
    "```scala\n",
    "((P => Q, P)) => Q\n",
    "```\n",
    "\n",
    "corresponds to the following formula of propositional logic: \n",
    "\n",
    "$\\hspace{0.8cm} ((p->q) \\land p)->p $\n",
    "\n",
    "Let's get used to read Scala types as propositional formulas with these examples: \n",
    "\n",
    "$$\n",
    "\\begin{array}{cc}\n",
    "\\mathrm{\\bf Scala\\ types} & \\mathrm{\\bf Propositions} \\\\\n",
    "\\hline\n",
    "\\mathtt{(P, Either[Q, R])} & p \\land (q \\ \\lor \\ r)  \\\\ \n",
    "\\mathtt{P => Q => (Q, R)} & p -> q \\ -> q \\land r \\\\\n",
    "\\mathtt{(P => Nothing) => Nothing} & (p -> false) -> false\\\\ \n",
    "\\end{array}\n",
    "$$"
   ]
  },
  {
   "attachments": {},
   "cell_type": "markdown",
   "metadata": {},
   "source": [
    "### ·Not y <=>:"
   ]
  },
  {
   "cell_type": "code",
   "execution_count": null,
   "metadata": {},
   "outputs": [],
   "source": [
    "type Not[P] = P => Nothing\n",
    "type <=>[P, Q] = (P=>Q,Q=>P)"
   ]
  },
  {
   "attachments": {},
   "cell_type": "markdown",
   "metadata": {},
   "source": [
    "### ·$ \\underline{Deducción \\ Natural:}$"
   ]
  },
  {
   "cell_type": "code",
   "execution_count": null,
   "metadata": {},
   "outputs": [],
   "source": [
    "def proof[P, Q, R](p1: Either[P, Q],\n",
    "                     p2: P => Not[R],\n",
    "                     p3: Q => Not[R]) : Not[R] =\n",
    "    p1 match {\n",
    "        case Left(p: P) => p2(p) : Not[R]\n",
    "        case Right(q: Q) => p3(q) : Not[R]\n",
    "    }"
   ]
  }
 ],
 "metadata": {
  "kernelspec": {
   "display_name": "Scala",
   "language": "scala",
   "name": "scala"
  },
  "language_info": {
   "codemirror_mode": "text/x-scala",
   "file_extension": ".sc",
   "mimetype": "text/x-scala",
   "name": "scala",
   "nbconvert_exporter": "script",
   "version": "2.13.10"
  },
  "orig_nbformat": 4
 },
 "nbformat": 4,
 "nbformat_minor": 2
}
